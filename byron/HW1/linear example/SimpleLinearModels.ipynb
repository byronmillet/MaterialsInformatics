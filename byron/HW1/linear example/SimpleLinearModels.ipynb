{
 "cells": [
  {
   "cell_type": "markdown",
   "metadata": {},
   "source": [
    "# Simple Linear Regression Tutorial"
   ]
  },
  {
   "cell_type": "markdown",
   "metadata": {},
   "source": [
    "Start with some imports and generic plot styling settings."
   ]
  },
  {
   "cell_type": "code",
   "execution_count": null,
   "metadata": {},
   "outputs": [],
   "source": [
    "import pandas as pd\n",
    "import numpy as np\n",
    "\n",
    "import statsmodels.api as sm\n",
    "import statsmodels.formula.api as smf\n",
    "\n",
    "import matplotlib.pyplot as plt\n",
    "import matplotlib.colors\n",
    "from cycler import cycler\n",
    "plt.style.use(\"ggplot\")\n",
    "palette = [\"#00B0F6\", \"#F8766D\", \"#00BF7D\", \"#A3A500\", \"#E76BF3\"]\n",
    "plt.rc('axes', prop_cycle=(cycler('color', palette)))"
   ]
  },
  {
   "cell_type": "markdown",
   "metadata": {},
   "source": [
    "We are given some data relating grain size, sintering time, and steel_grade to yield strength. We can open this using the pandas library. \n",
    "\n",
    "To open an excel file you may need to install a library called `openpyxl`, to do this, simply issue the following commands:\n",
    "\n",
    "`conda activate MatInformatics`\n",
    "\n",
    "`conda install openpyxl -y`\n",
    "\n",
    "After you've loaded the data, try using the data wrangler extension to view the data in a little more detail and perhaps make a few changes."
   ]
  },
  {
   "cell_type": "code",
   "execution_count": null,
   "metadata": {},
   "outputs": [],
   "source": [
    "# load the excel data into a pandas dataframe\n",
    "df = pd.read_excel('hall-petch_data.xlsx')\n",
    "# I am renamong some of the columns to make it easier, you do not have to do this.\n",
    "df.columns = ['steel_grade', 'grain_size', 'sintering_time', 'yield_strength']\n",
    "display(df)"
   ]
  },
  {
   "cell_type": "markdown",
   "metadata": {},
   "source": [
    "It's generally good practice to visualize your data in order to start understanding relationships between different variables and the response that you are trying to predict. There are many approaches to visualization, but to start we will simply plot each variable against yield strength."
   ]
  },
  {
   "cell_type": "code",
   "execution_count": null,
   "metadata": {},
   "outputs": [],
   "source": [
    "# plot a few of the relationships to better understand relationships and expected transforms\n",
    "fig, ax = plt.subplots(ncols=3, figsize=(9, 3), dpi=300, sharey=True, layout='tight')\n",
    "\n",
    "for i, column in enumerate(df.columns[:-1]):\n",
    "    ax[i].plot(df[column], df['yield_strength'], ls='None', marker='o', color='k', alpha=0.5)\n",
    "    ax[i].set_xlabel(column)\n",
    "ax[0].set_ylabel(df.columns[-1])\n",
    "plt.show()"
   ]
  },
  {
   "cell_type": "markdown",
   "metadata": {},
   "source": [
    "The above plots start to give us some intuition about the data and more importantly show that two of our variables contain some extreme data points. To better visualize these, we can apply a simple log transform to the `grain_size` and `sintering_time` variables. The results of this transformation are shown in the figures below. You will notice that the the values appear to vary non-linearly and that `grain_size` and `sintering_time` appear to be identical in behavior, but not scale."
   ]
  },
  {
   "cell_type": "code",
   "execution_count": null,
   "metadata": {},
   "outputs": [],
   "source": [
    "# plot a few of the relationships to better understand relationships and expected transforms\n",
    "fig, ax = plt.subplots(ncols=3, figsize=(9, 3), dpi=300, sharey=True, layout='tight')\n",
    "\n",
    "for i, column in enumerate(df.columns[:-1]):\n",
    "    ax[i].plot(df[column], df['yield_strength'], ls='None', marker='o', color='k', alpha=0.5)\n",
    "    ax[i].set_xlabel(column)\n",
    "ax[0].set_ylabel(df.columns[-1])\n",
    "ax[1].set_xscale(\"log\")\n",
    "ax[2].set_xscale(\"log\")\n",
    "\n",
    "plt.show()"
   ]
  },
  {
   "cell_type": "markdown",
   "metadata": {},
   "source": [
    "Imagine you want to predict the yield strength as a function of `grain_size` a first approach might be to set up a simple linear model of the form: \n",
    "\\begin{equation}\n",
    "yield \\ strength = \\beta_0 + \\beta_1 * grain \\  size\n",
    "\\end{equation}\n",
    "\n",
    "We can fit this model using the `statsmodels` library and an ordinary least squares (OLS) model. "
   ]
  },
  {
   "cell_type": "code",
   "execution_count": null,
   "metadata": {},
   "outputs": [],
   "source": [
    "# fit the model\n",
    "results = smf.ols('yield_strength ~ grain_size', data=df).fit()\n",
    "\n",
    "# look at the results\n",
    "print(\"Model Parameters\")\n",
    "print(results.params)\n",
    "\n",
    "print(\"\\nR^2\", results.rsquared)"
   ]
  },
  {
   "cell_type": "code",
   "execution_count": null,
   "metadata": {},
   "outputs": [],
   "source": [
    "print(results.summary())"
   ]
  },
  {
   "cell_type": "markdown",
   "metadata": {},
   "source": [
    "`statsmodels` provides lots of useful information about our model fit that can help us determine significant variables or diagnose fitting issues. The bullet points below provide a summary of the interpretations of the some of the values reported in the results. However, please note that these metrics are complex and easily misinterpretted. We encourage you to spend some time familiarizing yourselves with some of these metrics in the future.\n",
    "\n",
    "\n",
    "- `R-squared` : summarizes how well the model explains the variation in the dependent variable, with higher values indicating a better fit and a greater proportion of variance explained by the independent variables.\n",
    "\n",
    "- `F-statistic` : assesses whether the regression model, with its independent variables, provides a statistically significant improvement in explaining the variation in the dependent variable compared to a model with no independent variables, with a higher F-statistic indicating a better fit.\n",
    "\n",
    "- `coef` : the estimated value of the intercept or coefficient on an independent variable.\n",
    "\n",
    "- `std err` : the standard error on the intercept or coefficient, you can understand this as the average amount that this estimated intercept or coefficient differs from the true, unknown value.\n",
    "\n",
    "- `t-statistic (t)` : assesses whether the intercept or coefficient is significantly different from zero. A higher absolute t-statistic indicates a more significant effect.\n",
    "\n",
    "- `P>|t|` : tells you the probability of observing the intercept or coefficient by random chance if the true intercept or coefficient value was zero. A low p-value (<0.05) is a good sign; however, be very careful when relying on p-values as they are rather controversial.\n",
    "\n",
    "- `[0.025 - 0.975]` : a 95% confidence interval for the intercept or coefficient value. Think of this as a range within which the true value is likely to fall."
   ]
  },
  {
   "cell_type": "markdown",
   "metadata": {},
   "source": [
    "~ ~ ~\n",
    "\n",
    "The model doesn't look like a good fit, but single valued numbers can be misleading. when data dimmenions are sufficiently low, we can visualize the fit directly and determine the goodness of fit. The figure below shows a fit to the data as we specified it. We see that the non-linear relationship isn't encoded and we don't capture a lot of the variation in the data."
   ]
  },
  {
   "cell_type": "code",
   "execution_count": null,
   "metadata": {},
   "outputs": [],
   "source": [
    "xdata = np.logspace(0.81, 4.35, 1000) # simple data to plot smooth fit line\n",
    "fig, ax = plt.subplots(figsize=(6, 4), dpi=100, sharey=True, layout='tight')\n",
    "ax.plot(df.grain_size, df.yield_strength, ls=\"None\", marker='o', color='k', label='Data')\n",
    "ax.plot(xdata, -0.0351*xdata+745.6602, lw=2, label='Model Fit')\n",
    "ax.fill_between(xdata, -0.051*xdata+683.904, -0.019*xdata+807.416, alpha=0.3, label='95% Confidence')\n",
    "ax.set_xlabel('grain_size')\n",
    "ax.set_ylabel('yield_strength')\n",
    "plt.legend(frameon=False, loc='center left', bbox_to_anchor=(1, 0.5))\n",
    "plt.show()"
   ]
  },
  {
   "cell_type": "markdown",
   "metadata": {},
   "source": [
    "It's clear that our data does not vary linearly, so perhaps we can apply a transformation to our data so as to account for that non-linearity? As engineers we know how different functions behave under different transforms. The data appears similar to a 1/x function. As materials scientists we are familar with the Hall-Petch relationship and know that it varies according to 1/sqrt(x), let's encode that transform and update the model."
   ]
  },
  {
   "cell_type": "code",
   "execution_count": null,
   "metadata": {},
   "outputs": [],
   "source": [
    "def petch_transform(x):\n",
    "    return 1/np.sqrt(x)\n",
    "\n",
    "results = smf.ols('yield_strength ~ petch_transform(grain_size)', data=df).fit()\n",
    "print(results.summary())"
   ]
  },
  {
   "cell_type": "code",
   "execution_count": null,
   "metadata": {},
   "outputs": [],
   "source": [
    "xdata = np.logspace(0.81, 4.35, 1000) # simple data to plot smooth fit line\n",
    "fig, ax = plt.subplots(figsize=(6, 4), dpi=100, sharey=True, layout='tight')\n",
    "ax.plot(df.grain_size, df.yield_strength, ls=\"None\", marker='o', color='k', label='Data')\n",
    "ax.plot(xdata, petch_transform(xdata)*2567.9708 + 219.9421, lw=2, label='Model Fit')\n",
    "ax.fill_between(xdata, \n",
    "                petch_transform(xdata)*2274.944 + 155.823,\n",
    "                petch_transform(xdata)*2860.998 + 284.061,\n",
    "                lw=2,\n",
    "                alpha=0.3,\n",
    "                label='95% Confidence')\n",
    "plt.xscale(\"log\")\n",
    "ax.set_xlabel('grain_size')\n",
    "ax.set_ylabel('yield_strength')\n",
    "plt.legend(frameon=False, loc='center left', bbox_to_anchor=(1, 0.5))\n",
    "plt.show()"
   ]
  },
  {
   "cell_type": "markdown",
   "metadata": {},
   "source": [
    "Can we do better?\n",
    "\n",
    "In our dataset we also have `sintering_time` and `steel_grade`. Looking at the earlier figure, it appears that sintering time data follows the exact same behavior as grain size, so we probably aren't going to learn anything new. Instead, let's look at steel grade, the figure below visualizes the data but makes distinctions between steel grades, we see that each of them appears offset from the others."
   ]
  },
  {
   "cell_type": "code",
   "execution_count": null,
   "metadata": {},
   "outputs": [],
   "source": [
    "# convert the steel grade strings to a numerical format for plotting\n",
    "df['category'] = df['steel_grade'].replace(['A36', '304 SS', 'AISI 316'],[0, 1, 2])\n",
    "\n",
    "fig, ax = plt.subplots(figsize=(6, 4), dpi=100, sharey=True, layout='tight')\n",
    "cmap = plt.get_cmap('terrain', np.max(df.category) - np.min(df.category) + 1)\n",
    "cmap = matplotlib.colors.ListedColormap([\"#00B0F6\", \"#F8766D\", \"#00BF7D\"])\n",
    "sc = ax.scatter(df.grain_size, df.yield_strength, c=df.category, edgecolor='k', label='Data', cmap=cmap)\n",
    "cax = plt.colorbar(sc, ticks=np.arange(np.min(df.category), np.max(df.category) + 1))\n",
    "ax.set_xscale('log')\n",
    "ax.set_xlabel('grain_size')\n",
    "ax.set_ylabel('yield_strength')\n",
    "# plt.legend(frameon=False, loc='center left', bbox_to_anchor=(1, 0.5))\n",
    "plt.show()"
   ]
  },
  {
   "cell_type": "markdown",
   "metadata": {},
   "source": [
    "Let's add `steel_grade` as a categorical variable to our model using the `C(var)` notation.\n",
    "\n",
    "We see a nice increase in our $R^2$ value, but the interpretation of other metrics starts to become a little more confusing.\n",
    "\n",
    "Now the results terms corresponding to different categories represent additive terms to the overall equation."
   ]
  },
  {
   "cell_type": "code",
   "execution_count": null,
   "metadata": {},
   "outputs": [],
   "source": [
    "def petch_transform(x):\n",
    "    return 1/np.sqrt(x)\n",
    "\n",
    "results = smf.ols('yield_strength ~ petch_transform(grain_size) + C(steel_grade)', data=df).fit()\n",
    "print(results.summary())"
   ]
  },
  {
   "cell_type": "code",
   "execution_count": null,
   "metadata": {},
   "outputs": [],
   "source": [
    "xdata = np.logspace(0.81, 4.35, 1000) # simple data to plot smooth fit line\n",
    "fig, ax = plt.subplots(figsize=(6, 4), dpi=100, sharey=True, layout='tight')\n",
    "\n",
    "ax.scatter(df.grain_size, df.yield_strength, c=df.category, cmap=cmap, edgecolor='k')\n",
    "\n",
    "# 370 Steel\n",
    "ax.plot(xdata, petch_transform(xdata)*2562.9633 + 203.4846, lw=2, label='370 Model Fit', color=palette[1])\n",
    "# A36 Steel\n",
    "ax.plot(xdata, petch_transform(xdata)*2567.9708 + 203.4846 - 68.6252, lw=2, label=' A36 Model Fit', color=palette[0])\n",
    "# AISI 316 Steel\n",
    "ax.plot(xdata, petch_transform(xdata)*2567.9708 + 203.4846 + 120.9020, lw=2, label='AISI 316 Model Fit', color=palette[2])\n",
    "\n",
    "plt.xscale(\"log\")\n",
    "ax.set_xlabel('grain_size')\n",
    "ax.set_ylabel('yield_strength')\n",
    "plt.legend(frameon=False, loc='center left', bbox_to_anchor=(1, 0.5))\n",
    "plt.show()"
   ]
  },
  {
   "cell_type": "markdown",
   "metadata": {},
   "source": [
    "# Now you try it!"
   ]
  },
  {
   "cell_type": "markdown",
   "metadata": {},
   "source": [
    "We know that the Hall-Petch relationship doesn't hold indefinitely to any arbitrarily small grain size. Instead, there is a limit below which the model breaks down. Take a look at the data fits. Do you see a lower limit to trend? Should we modify our data to better fit the data? Do so below"
   ]
  },
  {
   "cell_type": "code",
   "execution_count": 13,
   "metadata": {},
   "outputs": [],
   "source": [
    "#lets modify our approach so that Hall-Petch gets applied to the correct range of grain sizes. "
   ]
  },
  {
   "cell_type": "code",
   "execution_count": null,
   "metadata": {},
   "outputs": [],
   "source": []
  }
 ],
 "metadata": {
  "kernelspec": {
   "display_name": "MatInformatics",
   "language": "python",
   "name": "python3"
  },
  "language_info": {
   "codemirror_mode": {
    "name": "ipython",
    "version": 3
   },
   "file_extension": ".py",
   "mimetype": "text/x-python",
   "name": "python",
   "nbconvert_exporter": "python",
   "pygments_lexer": "ipython3",
   "version": "3.10.13"
  }
 },
 "nbformat": 4,
 "nbformat_minor": 2
}
