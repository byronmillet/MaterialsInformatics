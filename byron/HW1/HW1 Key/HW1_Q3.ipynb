{
 "cells": [
  {
   "cell_type": "markdown",
   "metadata": {},
   "source": [
    "# Question 3: Build models using CBFV\n",
    "\n",
    "**3.1 Regression**\n",
    "\n",
    "For this problem you will be loading the `matbench_steels` dataset from the matbench benchmark datasets. (https://matbench.materialsproject.org/) To load this datasets, you will need the `matminer` package which can be installed via `pip install matminer` within your MatInformatics python virtual environment. \n",
    "\n",
    "a) Load the dataset and explore the distribution of yield strengths with a histogram or violin plot."
   ]
  },
  {
   "cell_type": "code",
   "execution_count": 21,
   "metadata": {},
   "outputs": [
    {
     "name": "stdout",
     "output_type": "stream",
     "text": [
      "                                         composition  yield strength\n",
      "0  Fe0.620C0.000953Mn0.000521Si0.00102Cr0.000110N...          2411.5\n",
      "1  Fe0.623C0.00854Mn0.000104Si0.000203Cr0.147Ni0....          1123.1\n",
      "2  Fe0.625Mn0.000102Si0.000200Cr0.0936Ni0.129Mo0....          1736.3\n",
      "3  Fe0.634C0.000478Mn0.000523Si0.00102Cr0.000111N...          2487.3\n",
      "4  Fe0.636C0.000474Mn0.000518Si0.00101Cr0.000109N...          2249.6\n",
      "(312, 2)\n",
      "<class 'pandas.core.frame.DataFrame'>\n",
      "Int64Index: 312 entries, 0 to 311\n",
      "Data columns (total 2 columns):\n",
      " #   Column          Non-Null Count  Dtype  \n",
      "---  ------          --------------  -----  \n",
      " 0   composition     312 non-null    object \n",
      " 1   yield strength  312 non-null    float64\n",
      "dtypes: float64(1), object(1)\n",
      "memory usage: 7.3+ KB\n",
      "None\n",
      "       yield strength\n",
      "count      312.000000\n",
      "mean      1420.998397\n",
      "std        301.894169\n",
      "min       1005.900000\n",
      "25%       1219.475000\n",
      "50%       1344.200000\n",
      "75%       1576.075000\n",
      "max       2510.300000\n"
     ]
    }
   ],
   "source": [
    "from matminer.datasets import load_dataset\n",
    "import pandas as pd\n",
    "\n",
    "# Load the matbench_steels dataset\n",
    "dataset = load_dataset(\"matbench_steels\")\n",
    "df = pd.DataFrame(dataset)\n",
    "# Display the dataset\n",
    "print(df.head())  # Display the first few rows of the dataset\n",
    "print(df.shape)  # Display the number of rows and columns in the dataset\n",
    "print(df.info())  # Display information about the dataset, including data types and missing values\n",
    "print(df.describe())  # Display summary statistics of the dataset\n",
    "\n"
   ]
  },
  {
   "cell_type": "markdown",
   "metadata": {},
   "source": [
    "b) Featurize the data using the `CBFV` package. Create three featurized versions of the data: one with the `mat2vec` feature set, one with `magpie`, and one with `oliynyk`. \n"
   ]
  },
  {
   "cell_type": "code",
   "execution_count": 13,
   "metadata": {},
   "outputs": [
    {
     "name": "stderr",
     "output_type": "stream",
     "text": [
      "Processing Input Data: 100%|██████████| 312/312 [00:00<00:00, 9041.63it/s]\n"
     ]
    },
    {
     "name": "stdout",
     "output_type": "stream",
     "text": [
      "\tFeaturizing Compositions...\n"
     ]
    },
    {
     "name": "stderr",
     "output_type": "stream",
     "text": [
      "Assigning Features...: 100%|██████████| 312/312 [00:00<00:00, 3430.00it/s]\n"
     ]
    },
    {
     "name": "stdout",
     "output_type": "stream",
     "text": [
      "\tCreating Pandas Objects...\n"
     ]
    },
    {
     "name": "stderr",
     "output_type": "stream",
     "text": [
      "Processing Input Data: 100%|██████████| 312/312 [00:00<00:00, 11210.68it/s]\n"
     ]
    },
    {
     "name": "stdout",
     "output_type": "stream",
     "text": [
      "\tFeaturizing Compositions...\n"
     ]
    },
    {
     "name": "stderr",
     "output_type": "stream",
     "text": [
      "Assigning Features...: 100%|██████████| 312/312 [00:00<00:00, 7348.80it/s]\n"
     ]
    },
    {
     "name": "stdout",
     "output_type": "stream",
     "text": [
      "\tCreating Pandas Objects...\n"
     ]
    },
    {
     "name": "stderr",
     "output_type": "stream",
     "text": [
      "Processing Input Data: 100%|██████████| 312/312 [00:00<00:00, 9939.71it/s]\n"
     ]
    },
    {
     "name": "stdout",
     "output_type": "stream",
     "text": [
      "\tFeaturizing Compositions...\n"
     ]
    },
    {
     "name": "stderr",
     "output_type": "stream",
     "text": [
      "Assigning Features...: 100%|██████████| 312/312 [00:00<00:00, 5493.41it/s]\n"
     ]
    },
    {
     "name": "stdout",
     "output_type": "stream",
     "text": [
      "\tCreating Pandas Objects...\n"
     ]
    }
   ],
   "source": [
    "from CBFV import composition\n",
    "\n",
    "df.rename(columns={'composition': 'formula', 'yield strength': 'target'}, inplace=True)\n",
    "X_mat2vec, y_mat2vec, formulae, skipped = composition.generate_features(df, elem_prop='mat2vec')\n",
    "X_magpie, y_magpie, formulae, skipped = composition.generate_features(df, elem_prop='magpie')\n",
    "X_oliynyk, y_oliynyk, formulae, skipped = composition.generate_features(df, elem_prop='oliynyk')"
   ]
  },
  {
   "cell_type": "markdown",
   "metadata": {},
   "source": [
    "c) Split the dataset into training and testing sets (80% training, 20% testing).\n",
    "\n"
   ]
  },
  {
   "cell_type": "code",
   "execution_count": 14,
   "metadata": {},
   "outputs": [],
   "source": [
    "from sklearn.model_selection import train_test_split\n",
    "\n",
    "# Split X_mat2vec into training and test sets\n",
    "X_mat2vec_train, X_mat2vec_test, y_mat2vec_train, y_mat2vec_test = train_test_split(X_mat2vec, y_mat2vec, test_size=0.2, random_state=42)\n",
    "\n",
    "# Split X_magpie into training and test sets\n",
    "X_magpie_train, X_magpie_test, y_magpie_train, y_magpie_test = train_test_split(X_magpie, y_magpie, test_size=0.2, random_state=42)\n",
    "\n",
    "# Split X_pliynyk into training and test sets\n",
    "X_oliynyk_train, X_oliynyk_test, y_oliynyk_train, y_oliynyk_test = train_test_split(X_oliynyk, y_oliynyk, test_size=0.2, random_state=42)\n"
   ]
  },
  {
   "cell_type": "markdown",
   "metadata": {},
   "source": [
    "d) Build linear models and compare the performance of 3 different featurization approaches. \n",
    "\n",
    "**don't worry if the results are bad! We will get to better models soon!** \n"
   ]
  },
  {
   "cell_type": "code",
   "execution_count": 16,
   "metadata": {},
   "outputs": [
    {
     "name": "stdout",
     "output_type": "stream",
     "text": [
      "Metrics for X_mat2vec:\n",
      "Mean Squared Error: 31647194.388373014\n",
      "R-squared Score: -458.19953003655445\n",
      "\n",
      "Metrics for X_magpie:\n",
      "Mean Squared Error: 77148.93652219741\n",
      "R-squared Score: -0.11942799601940712\n",
      "\n",
      "Metrics for X_oliynyk:\n",
      "Mean Squared Error: 43780.70604414682\n",
      "R-squared Score: 0.3647436991278167\n"
     ]
    }
   ],
   "source": [
    "from sklearn.linear_model import LinearRegression\n",
    "from sklearn.metrics import mean_squared_error, r2_score\n",
    "\n",
    "# Create a linear regression model for X_mat2vec\n",
    "model_mat2vec = LinearRegression()\n",
    "model_mat2vec.fit(X_mat2vec_train, y_mat2vec_train)\n",
    "y_mat2vec_pred = model_mat2vec.predict(X_mat2vec_test)\n",
    "mse_mat2vec = mean_squared_error(y_mat2vec_test, y_mat2vec_pred)\n",
    "r2_mat2vec = r2_score(y_mat2vec_test, y_mat2vec_pred)\n",
    "\n",
    "# Create a linear regression model for X_magpie\n",
    "model_magpie = LinearRegression()\n",
    "model_magpie.fit(X_magpie_train, y_magpie_train)\n",
    "y_magpie_pred = model_magpie.predict(X_magpie_test)\n",
    "mse_magpie = mean_squared_error(y_magpie_test, y_magpie_pred)\n",
    "r2_magpie = r2_score(y_magpie_test, y_magpie_pred)\n",
    "\n",
    "# Create a linear regression model for X_oliynyk\n",
    "model_oliynyk = LinearRegression()\n",
    "model_oliynyk.fit(X_oliynyk_train, y_oliynyk_train)\n",
    "y_oliynyk_pred = model_oliynyk.predict(X_oliynyk_test)\n",
    "mse_oliynyk = mean_squared_error(y_oliynyk_test, y_oliynyk_pred)\n",
    "r2_oliynyk = r2_score(y_oliynyk_test, y_oliynyk_pred)\n",
    "\n",
    "# Report metrics\n",
    "print(\"Metrics for X_mat2vec:\")\n",
    "print(\"Mean Squared Error:\", mse_mat2vec)\n",
    "print(\"R-squared Score:\", r2_mat2vec)\n",
    "print()\n",
    "print(\"Metrics for X_magpie:\")\n",
    "print(\"Mean Squared Error:\", mse_magpie)\n",
    "print(\"R-squared Score:\", r2_magpie)\n",
    "print()\n",
    "print(\"Metrics for X_oliynyk:\")\n",
    "print(\"Mean Squared Error:\", mse_oliynyk)\n",
    "print(\"R-squared Score:\", r2_oliynyk)\n"
   ]
  },
  {
   "cell_type": "markdown",
   "metadata": {},
   "source": [
    "e) For your best model, create a residual plot and a parity plot. \n",
    "\n",
    "Look for systematic patterns in your residual\n"
   ]
  },
  {
   "cell_type": "code",
   "execution_count": 17,
   "metadata": {},
   "outputs": [
    {
     "data": {
      "image/png": "[encoded data removed]",
      "text/plain": [
       "<Figure size 640x480 with 1 Axes>"
      ]
     },
     "metadata": {},
     "output_type": "display_data"
    },
    {
     "data": {
      "image/png": "[encoded data removed]",
      "text/plain": [
       "<Figure size 640x480 with 1 Axes>"
      ]
     },
     "metadata": {},
     "output_type": "display_data"
    }
   ],
   "source": [
    "import matplotlib.pyplot as plt\n",
    "\n",
    "# Calculate the residuals\n",
    "residuals = y_oliynyk_test - y_oliynyk_pred\n",
    "\n",
    "# Create the residual plot\n",
    "plt.scatter(y_oliynyk_pred, residuals)\n",
    "plt.axhline(y=0, color='r', linestyle='--')\n",
    "plt.xlabel('Predicted Yield Strength')\n",
    "plt.ylabel('Residuals')\n",
    "plt.title('Residual Plot')\n",
    "plt.show()\n",
    "\n",
    "# Create the parity plot\n",
    "plt.scatter(y_oliynyk_test, y_oliynyk_pred)\n",
    "plt.plot([min(y_oliynyk_test), max(y_oliynyk_test)], [min(y_oliynyk_test), max(y_oliynyk_test)], color='r', linestyle='--')\n",
    "plt.xlabel('Actual Yield Strength')\n",
    "plt.ylabel('Predicted Yield Strength')\n",
    "plt.title('Parity Plot')\n",
    "plt.show()\n"
   ]
  },
  {
   "cell_type": "markdown",
   "metadata": {},
   "source": [
    "f) Use your best model to predict the yield strength of a new steel composition Fe0.6Ni0.3Co0.2\n"
   ]
  },
  {
   "cell_type": "code",
   "execution_count": 24,
   "metadata": {},
   "outputs": [
    {
     "name": "stderr",
     "output_type": "stream",
     "text": [
      "Processing Input Data: 100%|██████████| 1/1 [00:00<00:00, 1009.46it/s]\n"
     ]
    },
    {
     "name": "stdout",
     "output_type": "stream",
     "text": [
      "\tFeaturizing Compositions...\n"
     ]
    },
    {
     "name": "stderr",
     "output_type": "stream",
     "text": [
      "Assigning Features...: 100%|██████████| 1/1 [00:00<00:00, 663.66it/s]"
     ]
    },
    {
     "name": "stdout",
     "output_type": "stream",
     "text": [
      "\tCreating Pandas Objects...\n",
      "Predicted Yield Strength: [-1.56770958e+13]\n"
     ]
    },
    {
     "name": "stderr",
     "output_type": "stream",
     "text": [
      "\n"
     ]
    }
   ],
   "source": [
    "# Featurize the new steel composition\n",
    "data = {'formula': ['Fe0.6Ni0.3Co0.2'],\n",
    "        'target': [1]} # Dummy target value\n",
    "\n",
    "X_new = pd.DataFrame(data)\n",
    "X_new_oliynyk, y_new_oliynyk, formulae, skipped = composition.generate_features(X_new, elem_prop='oliynyk')\n",
    "\n",
    "# Predict the yield strength using the best model\n",
    "yield_strength_pred = model_oliynyk.predict(X_new_oliynyk)\n",
    "\n",
    "print(\"Predicted Yield Strength:\", yield_strength_pred)\n"
   ]
  },
  {
   "cell_type": "markdown",
   "metadata": {},
   "source": [
    "g) Now it's time to think about the model you've built and tried using! Discuss why this dataset was appropriate or not for the task given. "
   ]
  },
  {
   "cell_type": "markdown",
   "metadata": {},
   "source": [
    "**<span style=\"color:teal\">put your discussion here</span>**\n"
   ]
  },
  {
   "cell_type": "markdown",
   "metadata": {},
   "source": [
    "**3.2 Classification**\n",
    "\n",
    "Now let's try a classification task! \n",
    "\n",
    "a) Download the `matbench_expt_is_metal` dataset, featurize with your choice of feature set, and employ a logistic regression (linear classifier). Report metrics and performance. "
   ]
  },
  {
   "cell_type": "code",
   "execution_count": 27,
   "metadata": {},
   "outputs": [
    {
     "name": "stdout",
     "output_type": "stream",
     "text": [
      "         composition  is_metal\n",
      "0           Ag(AuS)2      True\n",
      "1         Ag(W3Br7)2      True\n",
      "2   Ag0.5Ge1Pb1.75S4     False\n",
      "3  Ag0.5Ge1Pb1.75Se4     False\n",
      "4             Ag2BBr      True\n",
      "(4921, 2)\n",
      "<class 'pandas.core.frame.DataFrame'>\n",
      "Int64Index: 4921 entries, 0 to 4920\n",
      "Data columns (total 2 columns):\n",
      " #   Column       Non-Null Count  Dtype \n",
      "---  ------       --------------  ----- \n",
      " 0   composition  4921 non-null   object\n",
      " 1   is_metal     4921 non-null   bool  \n",
      "dtypes: bool(1), object(1)\n",
      "memory usage: 81.7+ KB\n",
      "None\n",
      "       composition is_metal\n",
      "count         4921     4921\n",
      "unique        4921        2\n",
      "top       Ag(AuS)2    False\n",
      "freq             1     2470\n"
     ]
    },
    {
     "name": "stderr",
     "output_type": "stream",
     "text": [
      "Processing Input Data:   0%|          | 0/4921 [00:00<?, ?it/s]"
     ]
    },
    {
     "name": "stderr",
     "output_type": "stream",
     "text": [
      "Processing Input Data: 100%|██████████| 4921/4921 [00:00<00:00, 9913.60it/s] \n"
     ]
    },
    {
     "name": "stdout",
     "output_type": "stream",
     "text": [
      "\tFeaturizing Compositions...\n"
     ]
    },
    {
     "name": "stderr",
     "output_type": "stream",
     "text": [
      "Assigning Features...: 100%|██████████| 4921/4921 [00:01<00:00, 3915.80it/s]\n"
     ]
    },
    {
     "name": "stdout",
     "output_type": "stream",
     "text": [
      "\tCreating Pandas Objects...\n"
     ]
    }
   ],
   "source": [
    "# Load the matbench_steels dataset\n",
    "dataset = load_dataset(\"matbench_expt_is_metal\")\n",
    "df = pd.DataFrame(dataset)\n",
    "\n",
    "# Display the dataset\n",
    "print(df.head())  # Display the first few rows of the dataset\n",
    "print(df.shape)  # Display the number of rows and columns in the dataset\n",
    "print(df.info())  # Display information about the dataset, including data types and missing values\n",
    "print(df.describe())  # Display summary statistics of the dataset\n",
    "\n",
    "#featurize\n",
    "df.rename(columns={'composition': 'formula', 'is_metal': 'target'}, inplace=True)\n",
    "X_oliynyk, y_oliynyk, formulae, skipped = composition.generate_features(df, elem_prop='oliynyk')\n",
    "\n",
    "# Split X_pliynyk into training and test sets\n",
    "X_oliynyk_train, X_oliynyk_test, y_oliynyk_train, y_oliynyk_test = train_test_split(X_oliynyk, y_oliynyk, test_size=0.2, random_state=42)"
   ]
  },
  {
   "cell_type": "code",
   "execution_count": 28,
   "metadata": {},
   "outputs": [
    {
     "name": "stdout",
     "output_type": "stream",
     "text": [
      "Accuracy: 0.8263959390862944\n",
      "Precision: 0.7992047713717694\n",
      "Recall: 0.8516949152542372\n",
      "F1 Score: 0.8246153846153845\n"
     ]
    },
    {
     "name": "stderr",
     "output_type": "stream",
     "text": [
      "c:\\Users\\taylo\\miniconda3\\envs\\MatInformatics\\lib\\site-packages\\sklearn\\linear_model\\_logistic.py:460: ConvergenceWarning: lbfgs failed to converge (status=1):\n",
      "STOP: TOTAL NO. of ITERATIONS REACHED LIMIT.\n",
      "\n",
      "Increase the number of iterations (max_iter) or scale the data as shown in:\n",
      "    https://scikit-learn.org/stable/modules/preprocessing.html\n",
      "Please also refer to the documentation for alternative solver options:\n",
      "    https://scikit-learn.org/stable/modules/linear_model.html#logistic-regression\n",
      "  n_iter_i = _check_optimize_result(\n"
     ]
    }
   ],
   "source": [
    "from sklearn.linear_model import LogisticRegression\n",
    "from sklearn.metrics import accuracy_score, precision_score, recall_score, f1_score\n",
    "\n",
    "# Create a logistic regression model\n",
    "model = LogisticRegression()\n",
    "\n",
    "# Fit the model to the training data\n",
    "model.fit(X_oliynyk_train, y_oliynyk_train)\n",
    "\n",
    "# Predict the labels for the test data\n",
    "y_pred = model.predict(X_oliynyk_test)\n",
    "\n",
    "# Calculate the accuracy\n",
    "accuracy = accuracy_score(y_oliynyk_test, y_pred)\n",
    "\n",
    "# Calculate the precision\n",
    "precision = precision_score(y_oliynyk_test, y_pred)\n",
    "\n",
    "# Calculate the recall\n",
    "recall = recall_score(y_oliynyk_test, y_pred)\n",
    "\n",
    "# Calculate the F1 score\n",
    "f1 = f1_score(y_oliynyk_test, y_pred)\n",
    "\n",
    "# Report the metrics\n",
    "print(\"Accuracy:\", accuracy)\n",
    "print(\"Precision:\", precision)\n",
    "print(\"Recall:\", recall)\n",
    "print(\"F1 Score:\", f1)\n"
   ]
  }
 ],
 "metadata": {
  "kernelspec": {
   "display_name": "Python 3",
   "language": "python",
   "name": "python3"
  },
  "language_info": {
   "codemirror_mode": {
    "name": "ipython",
    "version": 3
   },
   "file_extension": ".py",
   "mimetype": "text/x-python",
   "name": "python",
   "nbconvert_exporter": "python",
   "pygments_lexer": "ipython3",
   "version": "3.10.13"
  }
 },
 "nbformat": 4,
 "nbformat_minor": 2
}
