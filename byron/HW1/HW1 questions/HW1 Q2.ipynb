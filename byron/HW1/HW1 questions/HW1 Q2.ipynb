{
 "cells": [
  {
   "cell_type": "markdown",
   "metadata": {},
   "source": [
    "# Question 2: Materials Project API Exploration\n",
    "\n",
    "**2.1 Querying Materials Project Database**\n",
    "\n",
    "You will use the Materials Project API (MPRester and pymatgen) to query materials based on various criteria. You may choose to use the legacy or the new API.\n",
    "\n",
    "a) Initialize MPRester and query materials to find stable (within 50meV of convex hull) binary oxides with density greater than 4 g/cc. For these materials extract materials properties from materials project. "
   ]
  },
  {
   "cell_type": "code",
   "execution_count": 1,
   "metadata": {},
   "outputs": [],
   "source": [
    "#your code goes here"
   ]
  },
  {
   "cell_type": "markdown",
   "metadata": {},
   "source": [
    "b) Display basic information about the queried materials.\n",
    "\n"
   ]
  },
  {
   "cell_type": "code",
   "execution_count": 2,
   "metadata": {},
   "outputs": [],
   "source": [
    "#your code goes here"
   ]
  },
  {
   "cell_type": "markdown",
   "metadata": {},
   "source": [
    "**2.2 Matching Structures to CIF Cards**\n",
    "\n",
    "a) Using the Crystallographic Open Database (http://crystallography.net/cod/search.html) or the American Mineralogist Crystal Structure Database (https://rruff.geo.arizona.edu/AMS/amcsd.php) look up the cif card for your birth month (https://en.wikipedia.org/wiki/Birthstone). \n",
    "\n",
    "Then, see if you can use that cif card to find any Materials Project matches. Save the mp-id's to a list"
   ]
  },
  {
   "cell_type": "code",
   "execution_count": 3,
   "metadata": {},
   "outputs": [],
   "source": [
    "#your code goes here"
   ]
  },
  {
   "cell_type": "markdown",
   "metadata": {},
   "source": [
    "**2.3 Plotting Materials Properties**\n",
    "\n",
    "Plot relevant properties extracted from the Materials Project database.\n",
    "\n",
    "a) Extract and plot materials properties (e.g., density, formation energy) for the queried materials."
   ]
  },
  {
   "cell_type": "code",
   "execution_count": 4,
   "metadata": {},
   "outputs": [],
   "source": [
    "#your code goes here"
   ]
  }
 ],
 "metadata": {
  "kernelspec": {
   "display_name": "Python 3",
   "language": "python",
   "name": "python3"
  },
  "language_info": {
   "codemirror_mode": {
    "name": "ipython",
    "version": 3
   },
   "file_extension": ".py",
   "mimetype": "text/x-python",
   "name": "python",
   "nbconvert_exporter": "python",
   "pygments_lexer": "ipython3",
   "version": "3.10.13"
  }
 },
 "nbformat": 4,
 "nbformat_minor": 2
}
