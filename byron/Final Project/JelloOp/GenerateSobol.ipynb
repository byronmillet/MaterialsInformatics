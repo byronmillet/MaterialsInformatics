{
 "cells": [
  {
   "cell_type": "markdown",
   "metadata": {},
   "source": [
    "## Generate Some Initial Trials Using a Sobol Sequence"
   ]
  },
  {
   "cell_type": "code",
   "execution_count": 8,
   "metadata": {},
   "outputs": [],
   "source": [
    "import os\n",
    "import numpy as np\n",
    "import pandas as pd\n",
    "from ax.service.ax_client import AxClient, ObjectiveProperties\n",
    "SEED = 3 # students set this to their group number"
   ]
  },
  {
   "cell_type": "markdown",
   "metadata": {},
   "source": [
    "### Set up the experiment and specify parameter types and value ranges"
   ]
  },
  {
   "cell_type": "code",
   "execution_count": 9,
   "metadata": {},
   "outputs": [
    {
     "name": "stderr",
     "output_type": "stream",
     "text": [
      "[INFO 04-18 10:25:06] ax.service.ax_client: Starting optimization with verbose logging. To disable logging, set the `verbose_logging` argument to `False`. Note that float values in the logs are rounded to 6 decimal points.\n",
      "[WARNING 04-18 10:25:06] ax.service.ax_client: Random seed set to 3. Note that this setting only affects the Sobol quasi-random generator and BoTorch-powered Bayesian optimization models. For the latter models, setting random seed to the same number for two optimizations will make the generated trials similar, but not exactly the same, and over time the trials will diverge more.\n",
      "[INFO 04-18 10:25:06] ax.service.utils.instantiation: Due to non-specification, we will use the heuristic for selecting objective thresholds.\n",
      "[INFO 04-18 10:25:06] ax.service.utils.instantiation: Created search space: SearchSpace(parameters=[RangeParameter(name='PINK', parameter_type=INT, range=[0, 20]), RangeParameter(name='GREEN', parameter_type=INT, range=[0, 20]), RangeParameter(name='BLUE', parameter_type=INT, range=[0, 20]), RangeParameter(name='PURPLE', parameter_type=INT, range=[0, 20]), RangeParameter(name='SOLID_LIQUID_RATIO', parameter_type=FLOAT, range=[0.5, 2.5], digits=1)], parameter_constraints=[]).\n",
      "[INFO 04-18 10:25:06] ax.modelbridge.dispatch_utils: Using Models.BOTORCH_MODULAR since there is at least one ordered parameter and there are no unordered categorical parameters.\n",
      "[INFO 04-18 10:25:06] ax.modelbridge.dispatch_utils: Calculating the number of remaining initialization trials based on num_initialization_trials=5 max_initialization_trials=None num_tunable_parameters=5 num_trials=None use_batch_trials=False\n",
      "[INFO 04-18 10:25:06] ax.modelbridge.dispatch_utils: num_completed_initialization_trials=0 num_remaining_initialization_trials=5\n",
      "[INFO 04-18 10:25:06] ax.modelbridge.dispatch_utils: `verbose`, `disable_progbar`, and `jit_compile` are not yet supported when using `choose_generation_strategy` with ModularBoTorchModel, dropping these arguments.\n",
      "[INFO 04-18 10:25:06] ax.modelbridge.dispatch_utils: Using Bayesian Optimization generation strategy: GenerationStrategy(name='Sobol+BoTorch', steps=[Sobol for 5 trials, BoTorch for subsequent trials]). Iterations after 5 will take longer to generate due to model-fitting.\n"
     ]
    }
   ],
   "source": [
    "ax_client = AxClient(random_seed=SEED)\n",
    "\n",
    "# define the experiment and objectives\n",
    "ax_client.create_experiment(\n",
    "    parameters=[\n",
    "        {\"name\": \"PINK\", \"type\": \"range\", \"bounds\": [0, 20], \"value_type\": \"int\"},\n",
    "        {\"name\": \"GREEN\", \"type\": \"range\", \"bounds\": [0, 20], \"value_type\": \"int\"},\n",
    "        {\"name\": \"BLUE\", \"type\": \"range\", \"bounds\": [0, 20], \"value_type\": \"int\"},\n",
    "        {\"name\": \"PURPLE\", \"type\": \"range\", \"bounds\": [0, 20], \"value_type\": \"int\"},\n",
    "        {\"name\": \"SOLID_LIQUID_RATIO\", \"type\": \"range\", \"bounds\": [0.5, 2.5], \"value_type\": \"float\", \"digits\": 1},\n",
    "    ],\n",
    "    objectives={\n",
    "        \"COLOR_ERR\": ObjectiveProperties(minimize=True),\n",
    "        \"STRAIN_ERR\": ObjectiveProperties(minimize=True),\n",
    "    },\n",
    "    choose_generation_strategy_kwargs={\"num_initialization_trials\": 5},\n",
    ")"
   ]
  },
  {
   "cell_type": "markdown",
   "metadata": {},
   "source": [
    "### Generate five initial experiments and save them in a file for later use."
   ]
  },
  {
   "cell_type": "code",
   "execution_count": 10,
   "metadata": {},
   "outputs": [
    {
     "name": "stderr",
     "output_type": "stream",
     "text": [
      "[INFO 04-18 10:25:06] ax.service.ax_client: Generated new trial 0 with parameters {'PINK': 1, 'GREEN': 4, 'BLUE': 14, 'PURPLE': 1, 'SOLID_LIQUID_RATIO': 1.3} using model Sobol.\n",
      "[INFO 04-18 10:25:06] ax.service.ax_client: Generated new trial 1 with parameters {'PINK': 18, 'GREEN': 15, 'BLUE': 5, 'PURPLE': 12, 'SOLID_LIQUID_RATIO': 1.5} using model Sobol.\n"
     ]
    },
    {
     "name": "stderr",
     "output_type": "stream",
     "text": [
      "[INFO 04-18 10:25:06] ax.service.ax_client: Generated new trial 2 with parameters {'PINK': 14, 'GREEN': 5, 'BLUE': 16, 'PURPLE': 7, 'SOLID_LIQUID_RATIO': 2.5} using model Sobol.\n",
      "[INFO 04-18 10:25:06] ax.service.ax_client: Generated new trial 3 with parameters {'PINK': 7, 'GREEN': 15, 'BLUE': 4, 'PURPLE': 18, 'SOLID_LIQUID_RATIO': 0.7} using model Sobol.\n",
      "[INFO 04-18 10:25:06] ax.service.ax_client: Generated new trial 4 with parameters {'PINK': 8, 'GREEN': 9, 'BLUE': 9, 'PURPLE': 18, 'SOLID_LIQUID_RATIO': 0.8} using model Sobol.\n"
     ]
    },
    {
     "data": {
      "text/html": [
       "<div>\n",
       "<style scoped>\n",
       "    .dataframe tbody tr th:only-of-type {\n",
       "        vertical-align: middle;\n",
       "    }\n",
       "\n",
       "    .dataframe tbody tr th {\n",
       "        vertical-align: top;\n",
       "    }\n",
       "\n",
       "    .dataframe thead th {\n",
       "        text-align: right;\n",
       "    }\n",
       "</style>\n",
       "<table border=\"1\" class=\"dataframe\">\n",
       "  <thead>\n",
       "    <tr style=\"text-align: right;\">\n",
       "      <th></th>\n",
       "      <th>PINK</th>\n",
       "      <th>GREEN</th>\n",
       "      <th>BLUE</th>\n",
       "      <th>PURPLE</th>\n",
       "      <th>SOLID_LIQUID_RATIO</th>\n",
       "      <th>COLOR_ERR_MEAN</th>\n",
       "      <th>COLOR_ERR_STD</th>\n",
       "      <th>STRAIN_ERR_MEAN</th>\n",
       "      <th>STRAIN_ERR_STD</th>\n",
       "    </tr>\n",
       "  </thead>\n",
       "  <tbody>\n",
       "    <tr>\n",
       "      <th>0</th>\n",
       "      <td>1.0</td>\n",
       "      <td>4.0</td>\n",
       "      <td>14.0</td>\n",
       "      <td>1.0</td>\n",
       "      <td>1.3</td>\n",
       "      <td>NaN</td>\n",
       "      <td>NaN</td>\n",
       "      <td>NaN</td>\n",
       "      <td>NaN</td>\n",
       "    </tr>\n",
       "    <tr>\n",
       "      <th>1</th>\n",
       "      <td>18.0</td>\n",
       "      <td>15.0</td>\n",
       "      <td>5.0</td>\n",
       "      <td>12.0</td>\n",
       "      <td>1.5</td>\n",
       "      <td>NaN</td>\n",
       "      <td>NaN</td>\n",
       "      <td>NaN</td>\n",
       "      <td>NaN</td>\n",
       "    </tr>\n",
       "    <tr>\n",
       "      <th>2</th>\n",
       "      <td>14.0</td>\n",
       "      <td>5.0</td>\n",
       "      <td>16.0</td>\n",
       "      <td>7.0</td>\n",
       "      <td>2.5</td>\n",
       "      <td>NaN</td>\n",
       "      <td>NaN</td>\n",
       "      <td>NaN</td>\n",
       "      <td>NaN</td>\n",
       "    </tr>\n",
       "    <tr>\n",
       "      <th>3</th>\n",
       "      <td>7.0</td>\n",
       "      <td>15.0</td>\n",
       "      <td>4.0</td>\n",
       "      <td>18.0</td>\n",
       "      <td>0.7</td>\n",
       "      <td>NaN</td>\n",
       "      <td>NaN</td>\n",
       "      <td>NaN</td>\n",
       "      <td>NaN</td>\n",
       "    </tr>\n",
       "    <tr>\n",
       "      <th>4</th>\n",
       "      <td>8.0</td>\n",
       "      <td>9.0</td>\n",
       "      <td>9.0</td>\n",
       "      <td>18.0</td>\n",
       "      <td>0.8</td>\n",
       "      <td>NaN</td>\n",
       "      <td>NaN</td>\n",
       "      <td>NaN</td>\n",
       "      <td>NaN</td>\n",
       "    </tr>\n",
       "  </tbody>\n",
       "</table>\n",
       "</div>"
      ],
      "text/plain": [
       "   PINK  GREEN  BLUE  PURPLE  SOLID_LIQUID_RATIO  COLOR_ERR_MEAN  \\\n",
       "0   1.0    4.0  14.0     1.0                 1.3             NaN   \n",
       "1  18.0   15.0   5.0    12.0                 1.5             NaN   \n",
       "2  14.0    5.0  16.0     7.0                 2.5             NaN   \n",
       "3   7.0   15.0   4.0    18.0                 0.7             NaN   \n",
       "4   8.0    9.0   9.0    18.0                 0.8             NaN   \n",
       "\n",
       "   COLOR_ERR_STD  STRAIN_ERR_MEAN  STRAIN_ERR_STD  \n",
       "0            NaN              NaN             NaN  \n",
       "1            NaN              NaN             NaN  \n",
       "2            NaN              NaN             NaN  \n",
       "3            NaN              NaN             NaN  \n",
       "4            NaN              NaN             NaN  "
      ]
     },
     "metadata": {},
     "output_type": "display_data"
    }
   ],
   "source": [
    "sobol_trials = pd.DataFrame(ax_client.get_next_trials(5)[0]).T\n",
    "\n",
    "# creating some dummy columns that can be updated later\n",
    "sobol_trials['COLOR_ERR_MEAN'] = np.nan\n",
    "sobol_trials['COLOR_ERR_STD'] = np.nan\n",
    "sobol_trials['STRAIN_ERR_MEAN'] = np.nan\n",
    "sobol_trials['STRAIN_ERR_STD'] = np.nan\n",
    "\n",
    "display(sobol_trials)\n",
    "\n",
    "# if a sobol trials file doesn't exist, create it\n",
    "if not os.path.exists(os.path.join('data', 'sobol_trials.csv')):\n",
    "    sobol_trials.to_csv(os.path.join('data', 'sobol_trials.csv'), index=False)"
   ]
  }
 ],
 "metadata": {
  "kernelspec": {
   "display_name": "ax_env",
   "language": "python",
   "name": "python3"
  },
  "language_info": {
   "codemirror_mode": {
    "name": "ipython",
    "version": 3
   },
   "file_extension": ".py",
   "mimetype": "text/x-python",
   "name": "python",
   "nbconvert_exporter": "python",
   "pygments_lexer": "ipython3",
   "version": "3.10.14"
  }
 },
 "nbformat": 4,
 "nbformat_minor": 2
}
