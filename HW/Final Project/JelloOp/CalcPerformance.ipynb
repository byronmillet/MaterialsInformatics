{
 "cells": [
  {
   "cell_type": "markdown",
   "metadata": {},
   "source": [
    "# Performance Measures\n",
    "\n",
    "This jupyter notebook will detail how to compute and report the performance of a given Jell-O composition."
   ]
  },
  {
   "cell_type": "code",
   "execution_count": 28,
   "metadata": {},
   "outputs": [],
   "source": [
    "import numpy as np\n",
    "\n",
    "COLOR_TARGET = np.array([4, 20, 112, 23, 174, 84, 9, 8])\n",
    "STRAIN_TARGET = 11.5 # percent\n",
    "\n",
    "def calc_color_err(measured):\n",
    "    \"\"\"Calculate the color error between the measured color and the target color.\"\"\"\n",
    "    return np.sum(abs(measured - COLOR_TARGET))\n",
    "\n",
    "def calc_strain_err(strain):\n",
    "    \"\"\"Calculate the strain error between the measured strain and the target strain.\"\"\"\n",
    "    return abs(strain - STRAIN_TARGET)"
   ]
  },
  {
   "cell_type": "markdown",
   "metadata": {},
   "source": [
    "## Color Error\n",
    "\n",
    "The color sensor returns measures of color along eight channels stored as: F1, F2, F3, F4, F5, F6, F7, F8. Thus your color measurements will be stored as an array of eight values. To evaluate the color error of a given Jell-O composition, we will simply take the difference between the measured color and the target color along each channel and sum the differences to get a single error value. You should have three measurements per Jell-O composition, so you will have three error values. We will then take the average and standard deviation of these for use in our optimization script.\n",
    "\n",
    "The target color is: `[4, 20, 112, 23, 174, 84, 9, 8]`\n",
    "\n",
    "Assume you have measured the following colors for a single Jell-O composition:\n",
    "\n",
    "```\n",
    "A = [5, 60, 132, 22, 164, 83, 12, 30]\n",
    "B = [10, 40, 122, 23, 184, 86, 14, 45]\n",
    "C = [8, 25, 98, 25, 177, 94, 19, 23]\n",
    "```\n",
    "\n",
    "The code below will compute the color error for this Jell-O composition."
   ]
  },
  {
   "cell_type": "code",
   "execution_count": 29,
   "metadata": {},
   "outputs": [
    {
     "name": "stdout",
     "output_type": "stream",
     "text": [
      "Mean error: 83.67\n",
      "Standard deviation of error: 14.97\n"
     ]
    }
   ],
   "source": [
    "# consider that you have measured the following values\n",
    "measured_A = np.array([5, 60, 132, 22, 164, 83, 12, 30])\n",
    "measured_B = np.array([10, 40, 122, 23, 184, 86, 14, 45])\n",
    "measured_C = np.array([8, 25, 98, 25, 177, 94, 19, 23])\n",
    "\n",
    "A_err = calc_color_err(measured_A)\n",
    "B_err = calc_color_err(measured_B)\n",
    "C_err = calc_color_err(measured_C)\n",
    "\n",
    "mean_err = np.mean([A_err, B_err, C_err])\n",
    "std_err = np.std([A_err, B_err, C_err])\n",
    "\n",
    "print(\"Mean error: {:.2f}\".format(mean_err))\n",
    "print(\"Standard deviation of error: {:.2f}\".format(std_err))"
   ]
  },
  {
   "cell_type": "markdown",
   "metadata": {},
   "source": [
    "# Strain Error\n",
    "\n",
    "The strain error follows a similar procedure. Measure the strain using the prescribed method and then take the average difference across three samples. You can use the provided function to compute the strain error."
   ]
  },
  {
   "cell_type": "code",
   "execution_count": 30,
   "metadata": {},
   "outputs": [
    {
     "name": "stdout",
     "output_type": "stream",
     "text": [
      "Mean error: 9.70\n",
      "Standard deviation of error: 0.86\n"
     ]
    }
   ],
   "source": [
    "measured_A = 20.2\n",
    "measured_B = 21.1\n",
    "measured_C = 22.3\n",
    "\n",
    "A_err = calc_strain_err(measured_A)\n",
    "B_err = calc_strain_err(measured_B)\n",
    "C_err = calc_strain_err(measured_C)\n",
    "\n",
    "mean_err = np.mean([A_err, B_err, C_err])\n",
    "std_err = np.std([A_err, B_err, C_err])\n",
    "\n",
    "print(\"Mean error: {:.2f}\".format(mean_err))\n",
    "print(\"Standard deviation of error: {:.2f}\".format(std_err))\n"
   ]
  }
 ],
 "metadata": {
  "kernelspec": {
   "display_name": "MatInformatics",
   "language": "python",
   "name": "python3"
  },
  "language_info": {
   "codemirror_mode": {
    "name": "ipython",
    "version": 3
   },
   "file_extension": ".py",
   "mimetype": "text/x-python",
   "name": "python",
   "nbconvert_exporter": "python",
   "pygments_lexer": "ipython3",
   "version": "3.10.13"
  }
 },
 "nbformat": 4,
 "nbformat_minor": 2
}
